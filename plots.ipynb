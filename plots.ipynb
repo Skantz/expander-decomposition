{
 "cells": [
  {
   "cell_type": "code",
   "execution_count": 3,
   "metadata": {},
   "outputs": [],
   "source": [
    "#imports\n",
    "\n",
    "import numpy as np\n",
    "import matplotlib.pyplot as plt\n",
    "import glob\n",
    "from os import path"
   ]
  },
  {
   "cell_type": "code",
   "execution_count": null,
   "metadata": {},
   "outputs": [],
   "source": [
    "#data\n",
    "#placeholder\n",
    "data = [0.6, 0.5, 0.7]"
   ]
  },
  {
   "cell_type": "code",
   "execution_count": null,
   "metadata": {},
   "outputs": [],
   "source": [
    "plt.plot(data)\n",
    "plt.show()"
   ]
  },
  {
   "cell_type": "code",
   "execution_count": 36,
   "metadata": {},
   "outputs": [],
   "source": [
    "def metis_partition_file_converter(inp, out):\n",
    "    import sys\n",
    "\n",
    "    #inp = sys.argv[1]\n",
    "    #out = sys.argv[2]\n",
    "\n",
    "    partitions = {}\n",
    "\n",
    "    def add(el, idx):\n",
    "        if idx not in partitions:\n",
    "            partitions[idx] = [el]\n",
    "        else:\n",
    "            partitions[idx].append(el)\n",
    "\n",
    "\n",
    "    with open(inp, \"r+\") as f:\n",
    "        el = 0\n",
    "        for line in f:\n",
    "            idx = int(line.strip())\n",
    "            add(el, idx)\n",
    "            el += 1\n",
    "\n",
    "    with open(out, \"w+\") as f:\n",
    "        idxs = list(partitions.keys())\n",
    "        idxs.sort()\n",
    "        assert(idxs[0] <= idxs[-1])\n",
    "        for ix in idxs:\n",
    "            f.write(\" \".join([str(e) for e in partitions[ix]]) + \"\\n\")"
   ]
  },
  {
   "cell_type": "code",
   "execution_count": 38,
   "metadata": {},
   "outputs": [
    {
     "output_type": "stream",
     "name": "stdout",
     "text": "graphs/cs4.graph\nreal 65.55\nuser 131.07\nsys 0.50\n"
    }
   ],
   "source": [
    "#!for graph in graphs/*.graph; do echo \"time start\"; time timeout 5m ./a.out  --G_phi=0.05 --H_phi=0.4 --vol=1 --h_ratio=0. -f $graph | tee \"$graph.out\" ; echo \"time end\"; done\n",
    "#!SHELL=/bin/bash\n",
    "\n",
    "for graph in [glob.glob(\"graphs/*\")[1]]:\n",
    "    print(graph)\n",
    "\n",
    "    #run decomposition on all graphs with time limit\n",
    "    out_path = graph + \".out\"\n",
    "    !time -p timeout 3m ./a.out  --G_phi=0.025 --H_phi=0.4 --vol=1 --h_ratio=0. -f $graph > \"$out_path\"\n",
    "\n",
    "    #TODO return code\n",
    "    if not glob.glob(graph + \"cut.txt\"):\n",
    "        print(\"decomp on\", graph, \"did not finish in time\")\n",
    "        continue\n",
    "\n",
    "    #how many clusters, k, did we get?\n",
    "    with open(out_path) as f:\n",
    "        lns = f.readlines()\n",
    "        cluster_line = next(l for l in lns if \"n clusters\" in l)\n",
    "        cluster_line.strip(\"\\n\")\n",
    "        n_clusters = int(cluster_line.split(\";\")[1])\n",
    "\n",
    "    #run metis on k\n",
    "    metis_stdio_path = graph + \".out.metis\"\n",
    "    !/usr/local/bin/gpmetis -ufactor=1000 $graph $n_clusters -contig >  $metis_stdio_path\n",
    "\n",
    "    metis_file = graph + \".part.\" + str(n_clusters)\n",
    "    decomp_file = graph + \"cut.txt\"\n",
    "    \n",
    "    metis_partition_file_converter(metis_file, metis_file)\n",
    "\n",
    "    rw_graph      = graph + \".row_whole\"\n",
    "    rw_file_ours  = graph + \".rw_ours\"\n",
    "    rw_file_metis = graph + \".rw_metis\"\n",
    "\n",
    "    !./a.out  --G_phi=0.025 --H_phi=0.4 --vol=1 --h_ratio=0. -f \"$graph\" --only_test_expander  > \"$rw_graph\"\n",
    "    !./a.out  --G_phi=0.025 --H_phi=0.4 --vol=1 --h_ratio=0. -f \"$graph\" --only_test_expander -p \"$decomp_file\" > \"$rw_file_ours\"\n",
    "    !./a.out  --G_phi=0.025 --H_phi=0.4 --vol=1 --h_ratio=0. -f \"$graph\" --only_test_expander -p \"$metis_file\"  > \"$rw_file_metis\"\n",
    " \n",
    "    bname = os.path.basename(graph).split(\".\")[0]\n",
    "    !mkdir -p results/\"$bname\"\n",
    "    for f in glob.glob(\"\".join(graph.split(\".\")[:-1]) + \"*\"):\n",
    "        if f != graph:\n",
    "            !mv $f results/\"$bname\"/\n",
    "\n",
    "\n"
   ]
  },
  {
   "cell_type": "code",
   "execution_count": null,
   "metadata": {},
   "outputs": [],
   "source": []
  }
 ],
 "metadata": {
  "language_info": {
   "codemirror_mode": {
    "name": "ipython",
    "version": 3
   },
   "file_extension": ".py",
   "mimetype": "text/x-python",
   "name": "python",
   "nbconvert_exporter": "python",
   "pygments_lexer": "ipython3",
   "version": "3.7.3-final"
  },
  "orig_nbformat": 2,
  "kernelspec": {
   "name": "python3",
   "display_name": "Python 3"
  }
 },
 "nbformat": 4,
 "nbformat_minor": 2
}
